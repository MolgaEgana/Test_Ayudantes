{
 "cells": [
  {
   "cell_type": "markdown",
   "id": "dbde51f8",
   "metadata": {},
   "source": [
    "# 01 Entrega\n",
    "\n"
   ]
  },
  {
   "cell_type": "markdown",
   "id": "c86a8330",
   "metadata": {},
   "source": [
    "## Instalación librerias "
   ]
  },
  {
   "cell_type": "code",
   "execution_count": 67,
   "id": "15f53ea6",
   "metadata": {},
   "outputs": [],
   "source": [
    "\n",
    "#install.packages(\"tm\")\n",
    "#install.packages(\"pdftools\")\n",
    "#install.packages(\"quanteda.textstats\")\n",
    "#nstall.packages(\"quanteda.textplots\")\n",
    "#install.packages(\"wordcloud\")\n",
    "#install.packages(\"quanteda.textmodels\")\n",
    "#install.packages(\"topicmodels\")\n",
    "# install.packages(\"lubridate\")\n",
    "\n",
    "#' Librerías\n",
    "library(ggplot2)\n",
    "library(tm)\n",
    "library(quanteda)\n",
    "library(quanteda.textstats)\n",
    "library(quanteda.textplots)\n",
    "library(quanteda.textmodels)\n",
    "library(topicmodels)\n",
    "library(tidyverse)\n",
    "library(tidyr)\n",
    "library(pdftools)\n",
    "library(wordcloud)\n",
    "library(IRdisplay)\n",
    "library(lubridate)"
   ]
  },
  {
   "cell_type": "markdown",
   "id": "b3067016",
   "metadata": {},
   "source": [
    "## Importar Data"
   ]
  },
  {
   "cell_type": "code",
   "execution_count": 68,
   "id": "f7f2d234",
   "metadata": {},
   "outputs": [],
   "source": [
    "\n",
    "setwd(\"C:/Users/molga/Dropbox/Tesis/data/constitutions Chile\")\n",
    "ruta <- \"C:/Users/molga/Dropbox/Tesis/data/constitutions Chile\"\n",
    "\n",
    "#'Importar Data set\n",
    "constituciones <- VCorpus(DirSource(ruta, pattern = \".pdf\"), # VCorpus toma la dirección de ruta y lo transforma en un tipo de corpus\n",
    "        readerControl = list(reader = readPDF, language = \"es\")) # Lee los pdf\n",
    "\n",
    "constituciones_corpus <- corpus(constituciones) # Transformación a Corpus"
   ]
  },
  {
   "cell_type": "markdown",
   "id": "937eb451",
   "metadata": {},
   "source": [
    "## Limpieza, procesamiento y transformación de Data"
   ]
  },
  {
   "cell_type": "code",
   "execution_count": 71,
   "id": "61c639f0",
   "metadata": {},
   "outputs": [
    {
     "data": {
      "text/html": [
       "<table class=\"dataframe\">\n",
       "<caption>A data.frame: 3 × 7</caption>\n",
       "<thead>\n",
       "\t<tr><th scope=col>author</th><th scope=col>datetimestamp</th><th scope=col>description</th><th scope=col>heading</th><th scope=col>id</th><th scope=col>language</th><th scope=col>origin</th></tr>\n",
       "\t<tr><th scope=col>&lt;chr&gt;</th><th scope=col>&lt;dttm&gt;</th><th scope=col>&lt;chr&gt;</th><th scope=col>&lt;chr&gt;</th><th scope=col>&lt;chr&gt;</th><th scope=col>&lt;chr&gt;</th><th scope=col>&lt;chr&gt;</th></tr>\n",
       "</thead>\n",
       "<tbody>\n",
       "\t<tr><td>            </td><td>2022-11-15 20:09:01</td><td>  </td><td>  </td><td>Chile_1980.pdf</td><td>es</td><td>LaTeX via pandoc                  </td></tr>\n",
       "\t<tr><td>Jorge Pasten</td><td>2023-09-26 18:29:38</td><td>NA</td><td>NA</td><td>Chile_2005.pdf</td><td>es</td><td>Microsoft® Word para Microsoft 365</td></tr>\n",
       "\t<tr><td>            </td><td>2022-11-14 18:26:23</td><td>  </td><td>  </td><td>Chile_2022.pdf</td><td>es</td><td>LaTeX via pandoc                  </td></tr>\n",
       "</tbody>\n",
       "</table>\n"
      ],
      "text/latex": [
       "A data.frame: 3 × 7\n",
       "\\begin{tabular}{lllllll}\n",
       " author & datetimestamp & description & heading & id & language & origin\\\\\n",
       " <chr> & <dttm> & <chr> & <chr> & <chr> & <chr> & <chr>\\\\\n",
       "\\hline\n",
       "\t              & 2022-11-15 20:09:01 &    &    & Chile\\_1980.pdf & es & LaTeX via pandoc                  \\\\\n",
       "\t Jorge Pasten & 2023-09-26 18:29:38 & NA & NA & Chile\\_2005.pdf & es & Microsoft® Word para Microsoft 365\\\\\n",
       "\t              & 2022-11-14 18:26:23 &    &    & Chile\\_2022.pdf & es & LaTeX via pandoc                  \\\\\n",
       "\\end{tabular}\n"
      ],
      "text/markdown": [
       "\n",
       "A data.frame: 3 × 7\n",
       "\n",
       "| author &lt;chr&gt; | datetimestamp &lt;dttm&gt; | description &lt;chr&gt; | heading &lt;chr&gt; | id &lt;chr&gt; | language &lt;chr&gt; | origin &lt;chr&gt; |\n",
       "|---|---|---|---|---|---|---|\n",
       "| <!----> | 2022-11-15 20:09:01 | <!----> | <!----> | Chile_1980.pdf | es | LaTeX via pandoc                   |\n",
       "| Jorge Pasten | 2023-09-26 18:29:38 | NA | NA | Chile_2005.pdf | es | Microsoft® Word para Microsoft 365 |\n",
       "| <!----> | 2022-11-14 18:26:23 | <!----> | <!----> | Chile_2022.pdf | es | LaTeX via pandoc                   |\n",
       "\n"
      ],
      "text/plain": [
       "  author       datetimestamp       description heading id             language\n",
       "1              2022-11-15 20:09:01                     Chile_1980.pdf es      \n",
       "2 Jorge Pasten 2023-09-26 18:29:38 NA          NA      Chile_2005.pdf es      \n",
       "3              2022-11-14 18:26:23                     Chile_2022.pdf es      \n",
       "  origin                            \n",
       "1 LaTeX via pandoc                  \n",
       "2 Microsoft® Word para Microsoft 365\n",
       "3 LaTeX via pandoc                  "
      ]
     },
     "metadata": {},
     "output_type": "display_data"
    }
   ],
   "source": [
    "#' Eliminar .pdf de los nombres\n",
    "nombres <- str_remove_all(list.files(ruta), \".pdf\")\n",
    "docvars(constituciones_corpus)\n",
    "\n",
    "#' Limpieza utilizando tokens\n",
    "numeros <- c(\"1\",\"2\",\"3\",\"4\",\"5\",\"6\",\"7\",\"8\",\"9\",\"0\",\"Capítulo\", \"Artículo\", \"°\", \"artículo\")\n",
    "\n",
    "tokens_constituciones <- tokens(constituciones_corpus, remove_punct = T) %>% \n",
    "  tokens_remove(pattern = stopwords(\"es\")) %>%  # Eliminación de los stopwords\n",
    "  tokens_tolower() %>% # Colocar las palabras en minúscula\n",
    "  tokens_wordstem() %>% # Raiz de las palabras\n",
    "  tokens_remove(numeros)"
   ]
  },
  {
   "cell_type": "markdown",
   "id": "6ba88cbd",
   "metadata": {},
   "source": [
    "## Document Features Matrix"
   ]
  },
  {
   "cell_type": "code",
   "execution_count": 79,
   "id": "d84fa4a9",
   "metadata": {},
   "outputs": [
    {
     "name": "stdout",
     "output_type": "stream",
     "text": [
      "Document-feature matrix of: 3 documents, 5,361 features (37.90% sparse) and 7 docvars.\n",
      "       features\n",
      "docs     i base institucionalidad 1º.- hombr nacen libr igual dignidad derecho\n",
      "  text1  3    7                 2   11     2     1   11    10        2      91\n",
      "  text2  6   10                 1    8    10     1   15    18        3     127\n",
      "  text3 16   14                 6    0     1     1   38    13        7     402\n",
      "[ reached max_nfeat ... 5,351 more features ]\n",
      "         ley      derecho    república constitución    president        podrá \n",
      "        1268          620          492          490          483          426 \n",
      "        caso      persona constitucion          ser \n",
      "         391          377          338          333 \n",
      "Keyword-in-context with 10 matches.                                                                               \n",
      "   [text1, 74]               ésta promov integración armónica sector | nación |\n",
      "  [text1, 113]         democrática 5º.- soberanía resid esencialment | nación |\n",
      " [text1, 1610]     artística protección incremento patrimonio cultur | nación |\n",
      " [text1, 2221]  recauden cualquiera naturaleza ingresarán patrimonio | nación |\n",
      " [text1, 2366]                      hecho comun hombr deban pertenec | nación |\n",
      " [text1, 2420]                comprend cuanto exijan interes general | nación |\n",
      " [text1, 3193]               dará cuenta paí administrativo político | nación |\n",
      " [text1, 3396]     cargo president república conservar independencia | nación |\n",
      " [text1, 5355] administración comprometido gravement honor seguridad | nación |\n",
      " [text1, 5385]          haber comprometido gravement honor seguridad | nación |\n",
      "                                                        \n",
      " asegurar derecho persona participar igualdad           \n",
      " ejercicio realiza pueblo travé plebiscito              \n",
      " deber comunidad contribuir desarrollo perfeccionamiento\n",
      " podrán afecto destino determinado embargo              \n",
      " toda ley declar así anterior                           \n",
      " seguridad nacion utilidad salubridad pública           \n",
      " 10 25 ser elegido president                            \n",
      " guardar hacer guardar constitución ley                 \n",
      " infringido abiertament constitución ley acusación      \n",
      " infringir constitución ley haber dejado                \n",
      "\n"
     ]
    }
   ],
   "source": [
    "\n",
    "#' Creación DFM\n",
    "dfm_constituciones <- dfm(tokens_constituciones)\n",
    "print(dfm_constituciones)\n",
    "\n",
    "#' Topfeatures\n",
    "print(topfeatures(dfm_constituciones))\n",
    "\n",
    "#' Key words in context\n",
    "kw_nacion <- kwic(tokens_constituciones, pattern = \"nación*\")\n",
    "print(head(kw_nacion, 10))\n",
    "\n"
   ]
  },
  {
   "cell_type": "markdown",
   "id": "9dc1a79c",
   "metadata": {},
   "source": [
    "## Cloud Plot"
   ]
  },
  {
   "cell_type": "code",
   "execution_count": 88,
   "id": "f58a9591",
   "metadata": {},
   "outputs": [
    {
     "ename": "ERROR",
     "evalue": "Error in textplot_wordcloud.dfm(sub, comparison = TRUE, max_words = 150, : dfm must have at least one non-zero value\n",
     "output_type": "error",
     "traceback": [
      "Error in textplot_wordcloud.dfm(sub, comparison = TRUE, max_words = 150, : dfm must have at least one non-zero value\nTraceback:\n",
      "1. suppressWarnings(textplot_wordcloud(sub, comparison = TRUE, max_words = 150, \n .     color = c(\"blue\", \"red\", \"green\"), labelcolor = \"black\"))",
      "2. withCallingHandlers(expr, warning = function(w) if (inherits(w, \n .     classes)) tryInvokeRestart(\"muffleWarning\"))",
      "3. textplot_wordcloud(sub, comparison = TRUE, max_words = 150, color = c(\"blue\", \n .     \"red\", \"green\"), labelcolor = \"black\")",
      "4. textplot_wordcloud.dfm(sub, comparison = TRUE, max_words = 150, \n .     color = c(\"blue\", \"red\", \"green\"), labelcolor = \"black\")",
      "5. stop(message_error(\"dfm_empty\"))"
     ]
    }
   ],
   "source": [
    "#' Creación de cloud para las 3 constituciones\n",
    "\n",
    "sub = dfm_constituciones %>% dfm_group(groups = id) %>% \n",
    "  dfm_subset(id == \"Chile_1980\" | id == \"Chile_2005\" | id == \"Chile_2022\")\n",
    "\n",
    "cloud_1 <- suppressWarnings(textplot_wordcloud(sub, comparison = TRUE,\n",
    "                                  max_words = 150, color = c(\"blue\", \"red\",\"green\"),\n",
    "                                  labelcolor = \"black\"))\n",
    "\n"
   ]
  },
  {
   "cell_type": "markdown",
   "id": "1e6f9e76",
   "metadata": {},
   "source": [
    "## Keyness"
   ]
  },
  {
   "cell_type": "code",
   "execution_count": 82,
   "id": "6725ae2a",
   "metadata": {
    "scrolled": false
   },
   "outputs": [
    {
     "data": {
      "text/html": [
       "<table class=\"dataframe\">\n",
       "<caption>A summary.corpus: 3 × 11</caption>\n",
       "<thead>\n",
       "\t<tr><th></th><th scope=col>Text</th><th scope=col>Types</th><th scope=col>Tokens</th><th scope=col>Sentences</th><th scope=col>author</th><th scope=col>datetimestamp</th><th scope=col>description</th><th scope=col>heading</th><th scope=col>id</th><th scope=col>language</th><th scope=col>origin</th></tr>\n",
       "\t<tr><th></th><th scope=col>&lt;chr&gt;</th><th scope=col>&lt;int&gt;</th><th scope=col>&lt;int&gt;</th><th scope=col>&lt;int&gt;</th><th scope=col>&lt;chr&gt;</th><th scope=col>&lt;dttm&gt;</th><th scope=col>&lt;chr&gt;</th><th scope=col>&lt;chr&gt;</th><th scope=col>&lt;chr&gt;</th><th scope=col>&lt;chr&gt;</th><th scope=col>&lt;chr&gt;</th></tr>\n",
       "</thead>\n",
       "<tbody>\n",
       "\t<tr><th scope=row>1</th><td>text1</td><td>3174</td><td>23925</td><td> 583</td><td>            </td><td>2022-11-15 20:09:01</td><td>  </td><td>  </td><td>Chile_1980.pdf</td><td>es</td><td>LaTeX via pandoc                  </td></tr>\n",
       "\t<tr><th scope=row>2</th><td>text2</td><td>4097</td><td>42224</td><td>1132</td><td>Jorge Pasten</td><td>2023-09-26 18:29:38</td><td>NA</td><td>NA</td><td>Chile_2005.pdf</td><td>es</td><td>Microsoft® Word para Microsoft 365</td></tr>\n",
       "\t<tr><th scope=row>3</th><td>text3</td><td>5281</td><td>58559</td><td>2642</td><td>            </td><td>2022-11-14 18:26:23</td><td>  </td><td>  </td><td>Chile_2022.pdf</td><td>es</td><td>LaTeX via pandoc                  </td></tr>\n",
       "</tbody>\n",
       "</table>\n"
      ],
      "text/latex": [
       "A summary.corpus: 3 × 11\n",
       "\\begin{tabular}{r|lllllllllll}\n",
       "  & Text & Types & Tokens & Sentences & author & datetimestamp & description & heading & id & language & origin\\\\\n",
       "  & <chr> & <int> & <int> & <int> & <chr> & <dttm> & <chr> & <chr> & <chr> & <chr> & <chr>\\\\\n",
       "\\hline\n",
       "\t1 & text1 & 3174 & 23925 &  583 &              & 2022-11-15 20:09:01 &    &    & Chile\\_1980.pdf & es & LaTeX via pandoc                  \\\\\n",
       "\t2 & text2 & 4097 & 42224 & 1132 & Jorge Pasten & 2023-09-26 18:29:38 & NA & NA & Chile\\_2005.pdf & es & Microsoft® Word para Microsoft 365\\\\\n",
       "\t3 & text3 & 5281 & 58559 & 2642 &              & 2022-11-14 18:26:23 &    &    & Chile\\_2022.pdf & es & LaTeX via pandoc                  \\\\\n",
       "\\end{tabular}\n"
      ],
      "text/markdown": [
       "\n",
       "A summary.corpus: 3 × 11\n",
       "\n",
       "| <!--/--> | Text &lt;chr&gt; | Types &lt;int&gt; | Tokens &lt;int&gt; | Sentences &lt;int&gt; | author &lt;chr&gt; | datetimestamp &lt;dttm&gt; | description &lt;chr&gt; | heading &lt;chr&gt; | id &lt;chr&gt; | language &lt;chr&gt; | origin &lt;chr&gt; |\n",
       "|---|---|---|---|---|---|---|---|---|---|---|---|\n",
       "| 1 | text1 | 3174 | 23925 |  583 | <!----> | 2022-11-15 20:09:01 | <!----> | <!----> | Chile_1980.pdf | es | LaTeX via pandoc                   |\n",
       "| 2 | text2 | 4097 | 42224 | 1132 | Jorge Pasten | 2023-09-26 18:29:38 | NA | NA | Chile_2005.pdf | es | Microsoft® Word para Microsoft 365 |\n",
       "| 3 | text3 | 5281 | 58559 | 2642 | <!----> | 2022-11-14 18:26:23 | <!----> | <!----> | Chile_2022.pdf | es | LaTeX via pandoc                   |\n",
       "\n"
      ],
      "text/plain": [
       "  Text  Types Tokens Sentences author       datetimestamp       description\n",
       "1 text1 3174  23925   583                   2022-11-15 20:09:01            \n",
       "2 text2 4097  42224  1132      Jorge Pasten 2023-09-26 18:29:38 NA         \n",
       "3 text3 5281  58559  2642                   2022-11-14 18:26:23            \n",
       "  heading id             language origin                            \n",
       "1         Chile_1980.pdf es       LaTeX via pandoc                  \n",
       "2 NA      Chile_2005.pdf es       Microsoft® Word para Microsoft 365\n",
       "3         Chile_2022.pdf es       LaTeX via pandoc                  "
      ]
     },
     "metadata": {},
     "output_type": "display_data"
    }
   ],
   "source": [
    "# Importar Data\n",
    "DIRECTORY <- \"C:/Users/molga/Dropbox/Tesis/data/constitutions Chile\"\n",
    "\n",
    "\n",
    "numeros <- c(\"1\",\"2\",\"3\",\"4\",\"5\",\"6\",\"7\",\"8\",\"9\",\"0\",\"Capítulo\", \"Artículo\", \"°\", \"artículo\")\n",
    "\n",
    "# Creación VCorpus\n",
    "constituciones <- VCorpus(DirSource(DIRECTORY, pattern = \".pdf\"), \n",
    "                         readerControl = list(reader = readPDF, language = \"es\"))\n",
    "\n",
    "# Creación corpus constituciones en general\n",
    "constituciones_corpus <- corpus(constituciones)\n",
    "\n",
    "summary(constitutions_corpus)\n",
    "\n",
    "# Creación corpus con subsest\n",
    "chile_corpus <- corpus_subset(constituciones_corpus, grepl(\"Chile_\", id) == TRUE)\n",
    "\n",
    "\n",
    "# Limpieza\n",
    "names(chile_corpus) <- c(\"Chile 1980\", \"Chile 2005\", \"Chile 2022\")\n",
    "\n",
    "toks_constituciones <- tokens(chile_corpus, remove_punct = TRUE) \n",
    "toks_constituciones <- tokens_remove(toks_constituciones, stopwords(language =\"es\", source = \"snowball\"))\n",
    "toks_constituciones <- tokens_tolower(toks_constituciones) \n",
    "toks_constituciones <- tokens_wordstem(toks_constituciones) \n",
    "toks_consituciones  <- tokens_remove(toks_constituciones, numeros)\n"
   ]
  },
  {
   "cell_type": "markdown",
   "id": "d5479a41",
   "metadata": {},
   "source": [
    "### Chile 1980 vs Chile 2022"
   ]
  },
  {
   "cell_type": "code",
   "execution_count": 89,
   "id": "9c2ee789",
   "metadata": {},
   "outputs": [
    {
     "data": {
      "image/png": "[encoded data removed]",
      "text/plain": [
       "plot without title"
      ]
     },
     "metadata": {
      "image/png": {
       "height": 420,
       "width": 420
      }
     },
     "output_type": "display_data"
    }
   ],
   "source": [
    "\n",
    "dfm_const <- dfm(toks_constituciones)\n",
    "dfm_const <- rbind(dfm_const[1,], dfm_const[3,])\n",
    "tstat_key <- textstat_keyness(dfm_const, target = \"Chile 2022\")\n",
    "textplot_keyness(tstat_key) +\n",
    "  theme(plot.margin = margin(1, 1, 1, 1, \"cm\"),axis.text=element_text(size=7), plot.background = element_rect(fill = \"white\")) +\n",
    "  ggtitle(\"Relative frequency analysis (Keyness) Keyness Chile 1980 and Chile 2022\") \n",
    "ggsave(\"./figures/keyness_chile_1925_2022.png\", width = 4211, height = 2144, units =\"px\")\n"
   ]
  },
  {
   "cell_type": "markdown",
   "id": "a21ec5a4",
   "metadata": {},
   "source": [
    "## Chile 2005 vs Chile 2022"
   ]
  },
  {
   "cell_type": "code",
   "execution_count": 84,
   "id": "db128601",
   "metadata": {},
   "outputs": [
    {
     "data": {
      "image/png": "[encoded data removed]",
      "text/plain": [
       "plot without title"
      ]
     },
     "metadata": {
      "image/png": {
       "height": 420,
       "width": 420
      }
     },
     "output_type": "display_data"
    }
   ],
   "source": [
    "dfm_const <- dfm(toks_constituciones)\n",
    "dfm_const <- rbind(dfm_const[2,], dfm_const[3,])\n",
    "tstat_key <- textstat_keyness(dfm_const, target = \"Chile 2022\")\n",
    "textplot_keyness(tstat_key) +\n",
    "  theme(plot.margin = margin(1, 1, 1, 1, \"cm\"),axis.text=element_text(size=7), plot.background = element_rect(fill = \"white\")) +\n",
    "  ggtitle(\"Relative frequency analysis (Keyness) Keyness Chile 2005 and Chile 2022\") \n",
    "ggsave(\"./figures/keyness_chile_1925_2022.png\", width = 4211, height = 2144, units =\"px\")\n"
   ]
  },
  {
   "cell_type": "markdown",
   "id": "43f4ec00",
   "metadata": {},
   "source": [
    "## Chile 2005 vs Chile 1980"
   ]
  },
  {
   "cell_type": "code",
   "execution_count": 85,
   "id": "0d0b42a6",
   "metadata": {},
   "outputs": [
    {
     "data": {
      "image/png": "[encoded data removed]",
      "text/plain": [
       "plot without title"
      ]
     },
     "metadata": {
      "image/png": {
       "height": 420,
       "width": 420
      }
     },
     "output_type": "display_data"
    }
   ],
   "source": [
    "dfm_const <- dfm(toks_constituciones)\n",
    "dfm_const <- rbind(dfm_const[2,], dfm_const[1,])\n",
    "tstat_key <- textstat_keyness(dfm_const, target = \"Chile 2005\")\n",
    "textplot_keyness(tstat_key) +\n",
    "  theme(plot.margin = margin(1, 1, 1, 1, \"cm\"),axis.text=element_text(size=7), plot.background = element_rect(fill = \"white\")) +\n",
    "  ggtitle(\"Relative frequency analysis (Keyness) Keyness Chile 1980 and Chile 2005\") \n",
    "ggsave(\"./figures/keyness_chile_1925_2022.png\", width = 4211, height = 2144, units =\"px\")"
   ]
  }
 ],
 "metadata": {
  "kernelspec": {
   "display_name": "R",
   "language": "R",
   "name": "ir"
  },
  "language_info": {
   "codemirror_mode": "r",
   "file_extension": ".r",
   "mimetype": "text/x-r-source",
   "name": "R",
   "pygments_lexer": "r",
   "version": "4.3.0"
  }
 },
 "nbformat": 4,
 "nbformat_minor": 5
}
